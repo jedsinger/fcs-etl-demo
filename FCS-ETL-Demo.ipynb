{
 "cells": [
  {
   "cell_type": "code",
   "execution_count": 17,
   "metadata": {
    "collapsed": true
   },
   "outputs": [],
   "source": [
    "# Set this to be your own TACC username, i.e. what you see immediately\n",
    "# after https://jupyter.sd2e.org/user/ in the address of this notebook\n",
    "USERNAME = 'jed'\n",
    "\n",
    "# Fill in your email here to receive notification when your job finishes\n",
    "NOTIFICATION_EMAIL = 'jed.singer@twosixlabs.com'"
   ]
  },
  {
   "cell_type": "code",
   "execution_count": 18,
   "metadata": {
    "collapsed": true
   },
   "outputs": [],
   "source": [
    "# Copy configuration files for analysis to personal workspace on TACC\n",
    "import shutil\n",
    "shutil.rmtree('../tacc-work/fcs-etl-demo')\n",
    "shutil.copytree('../sd2e-community/shared-q1-workshop/jed/fcs-etl-demo', '../tacc-work/fcs-etl-demo')"
   ]
  },
  {
   "cell_type": "code",
   "execution_count": 19,
   "metadata": {
    "collapsed": true
   },
   "outputs": [],
   "source": [
    "# Personalize parameters for the Agave job that will process the data\n",
    "import json\n",
    "import re\n",
    "params = json.load(open('../tacc-work/fcs-etl-demo/demo_params.json', 'rb'))\n",
    "for config_file in params['inputs']:\n",
    "    params['inputs'][config_file] = re.sub('jed', USERNAME, params['inputs'][config_file])\n",
    "params['name'] = USERNAME + '-fcs-etl-demo'\n",
    "for n in params['notifications']:\n",
    "    n['url'] = NOTIFICATION_EMAIL"
   ]
  },
  {
   "cell_type": "code",
   "execution_count": 20,
   "metadata": {
    "collapsed": true
   },
   "outputs": [],
   "source": [
    "# Run the job!\n",
    "from agavepy.agave import Agave\n",
    "agave = Agave.restore()\n",
    "job = agave.jobs.submit(body=params)"
   ]
  },
  {
   "cell_type": "code",
   "execution_count": 16,
   "metadata": {},
   "outputs": [
    {
     "data": {
      "text/plain": [
       "0"
      ]
     },
     "execution_count": 16,
     "metadata": {},
     "output_type": "execute_result"
    }
   ],
   "source": [
    "# Wait several minutes for the job to complete, then execute this cell\n",
    "# to download the results.\n",
    "from subprocess import call\n",
    "call(['jobs-output-get',  '-r', job['id'], 'output'])"
   ]
  }
 ],
 "metadata": {
  "kernelspec": {
   "display_name": "Python 2",
   "language": "python",
   "name": "python2"
  },
  "language_info": {
   "codemirror_mode": {
    "name": "ipython",
    "version": 2
   },
   "file_extension": ".py",
   "mimetype": "text/x-python",
   "name": "python",
   "nbconvert_exporter": "python",
   "pygments_lexer": "ipython2",
   "version": "2.7.11"
  }
 },
 "nbformat": 4,
 "nbformat_minor": 2
}
